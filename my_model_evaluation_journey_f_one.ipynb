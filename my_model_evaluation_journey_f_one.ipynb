{
 "cells": [
  {
   "cell_type": "code",
   "execution_count": 5,
   "id": "5ef856c7",
   "metadata": {},
   "outputs": [],
   "source": [
    "import pandas as pd \n",
    "from sklearn.metrics import f1_score"
   ]
  },
  {
   "cell_type": "code",
   "execution_count": 6,
   "id": "72f1bf61",
   "metadata": {},
   "outputs": [],
   "source": [
    "ytrue=[2, 0, 2, 2, 0, 1, 1, 2, 2, 0, 1, 2] \n",
    "ypred=[0, 0, 2, 1, 0, 2, 1, 0, 2, 0, 2, 2]"
   ]
  },
  {
   "cell_type": "code",
   "execution_count": 7,
   "id": "33586b41",
   "metadata": {},
   "outputs": [],
   "source": [
    "def my_model_evaluation_journey_f_one(ytrue,ypred):\n",
    "    return f1_score(ytrue,ypred, average=None)"
   ]
  },
  {
   "cell_type": "code",
   "execution_count": 8,
   "id": "e7acf110",
   "metadata": {},
   "outputs": [
    {
     "data": {
      "text/plain": [
       "array([0.75      , 0.4       , 0.54545455])"
      ]
     },
     "execution_count": 8,
     "metadata": {},
     "output_type": "execute_result"
    }
   ],
   "source": [
    "my_model_evaluation_journey_f_one(ytrue,ypred)"
   ]
  },
  {
   "cell_type": "code",
   "execution_count": null,
   "id": "35985ace",
   "metadata": {},
   "outputs": [],
   "source": []
  }
 ],
 "metadata": {
  "kernelspec": {
   "display_name": "Python 3 (ipykernel)",
   "language": "python",
   "name": "python3"
  },
  "language_info": {
   "codemirror_mode": {
    "name": "ipython",
    "version": 3
   },
   "file_extension": ".py",
   "mimetype": "text/x-python",
   "name": "python",
   "nbconvert_exporter": "python",
   "pygments_lexer": "ipython3",
   "version": "3.9.18"
  }
 },
 "nbformat": 4,
 "nbformat_minor": 5
}
